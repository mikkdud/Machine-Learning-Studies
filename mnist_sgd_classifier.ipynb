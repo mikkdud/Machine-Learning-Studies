{
  "cells": [
    {
      "cell_type": "markdown",
      "id": "e64297a2",
      "metadata": {
        "id": "e64297a2"
      },
      "source": [
        "# Klasyfikacja cyfr z użyciem MNIST i klasyfikatora SGD\n",
        "\n",
        "W tym laboratorium zajmujemy się rozpoznawaniem cyfr na podstawie zbioru danych **MNIST**. Każda obserwacja to obrazek o wymiarach 28x28 pikseli przedstawiający pojedynczą cyfrę (0–9). Celem eksperymentu jest zbudowanie klasyfikatora, który będzie rozpoznawał, czy dana cyfra to **0** (klasyfikacja binarna), a następnie trenowanie klasyfikatora wieloklasowego.\n",
        "\n",
        "Do budowy modelu wykorzystujemy:\n",
        "- klasyfikator liniowy `SGDClassifier` z pakietu `sklearn`,\n",
        "- podział danych na zbiór treningowy i testowy,\n",
        "- walidację krzyżową,\n",
        "- metryki takie jak dokładność i macierz pomyłek,\n",
        "- zapis wyników do plików `.pkl`.\n",
        "\n",
        "Dodatkowo, wizualizujemy wybrane dane wejściowe oraz porównujemy dokładność klasyfikacji na zbiorach treningowym i testowym.\n"
      ]
    },
    {
      "cell_type": "markdown",
      "id": "2a853a9d",
      "metadata": {
        "id": "2a853a9d"
      },
      "source": [
        "## Import i wczytanie danych"
      ]
    },
    {
      "cell_type": "code",
      "execution_count": null,
      "id": "9f261073",
      "metadata": {
        "id": "9f261073"
      },
      "outputs": [],
      "source": [
        "\n",
        "from sklearn.datasets import fetch_openml\n",
        "import numpy as np\n",
        "from matplotlib import pyplot as plt\n",
        "\n",
        "mnist = fetch_openml('mnist_784', version=1, as_frame=True)\n",
        "\n",
        "# Podgląd jednej próbki\n",
        "pixels = np.array(mnist.data.loc[42]).reshape(28, 28)\n",
        "plt.imshow(pixels, cmap='gray')\n",
        "plt.title(\"Przykład obrazu: Cyfra {}\".format(mnist.target[42]))\n",
        "plt.show()\n",
        "print((pixels > 0).astype(int))\n"
      ]
    },
    {
      "cell_type": "markdown",
      "id": "b4a93fc9",
      "metadata": {
        "id": "b4a93fc9"
      },
      "source": [
        "## Przygotowanie danych"
      ]
    },
    {
      "cell_type": "code",
      "execution_count": null,
      "id": "e5f2f390",
      "metadata": {
        "id": "e5f2f390"
      },
      "outputs": [],
      "source": [
        "\n",
        "X = mnist.data\n",
        "y = mnist.target.astype(int)\n",
        "\n",
        "# Sortowanie wg etykiety (dla eksperymentu)\n",
        "y = y.sort_values(ascending=True)\n",
        "X = X.reindex(y.index)\n",
        "\n",
        "# Podział zbioru\n",
        "from sklearn.model_selection import train_test_split\n",
        "X_train, X_test, y_train, y_test = train_test_split(\n",
        "    X, y, test_size=0.2, random_state=42\n",
        ")\n",
        "\n",
        "# Konwersja do klasyfikacji binarnej: czy cyfra to 0?\n",
        "y_train_0 = (y_train == 0).astype(int)\n",
        "y_test_0 = (y_test == 0).astype(int)\n"
      ]
    },
    {
      "cell_type": "markdown",
      "id": "fcad68f8",
      "metadata": {
        "id": "fcad68f8"
      },
      "source": [
        "## Trenowanie klasyfikatora SGD (klasyfikacja 0 vs reszta)"
      ]
    },
    {
      "cell_type": "code",
      "execution_count": null,
      "id": "a3ca061b",
      "metadata": {
        "id": "a3ca061b"
      },
      "outputs": [],
      "source": [
        "\n",
        "from sklearn.linear_model import SGDClassifier\n",
        "import time\n",
        "\n",
        "start = time.time()\n",
        "sgd_clf = SGDClassifier(random_state=42)\n",
        "sgd_clf.fit(X_train, y_train_0)\n",
        "print(\"Czas trenowania:\", time.time() - start)\n",
        "\n",
        "# Predykcje\n",
        "y_train_0_pred = sgd_clf.predict(X_train)\n",
        "y_test_0_pred = sgd_clf.predict(X_test)\n",
        "\n",
        "# Dokładność\n",
        "acc_train = sum(y_train_0 == y_train_0_pred) / len(y_train_0)\n",
        "acc_test = sum(y_test_0 == y_test_0_pred) / len(y_test_0)\n",
        "print(\"Dokładność (train):\", acc_train)\n",
        "print(\"Dokładność (test):\", acc_test)\n",
        "\n",
        "# Zapis do pliku\n",
        "import pickle\n",
        "with open(\"sgd_acc.pkl\", \"wb\") as file:\n",
        "    pickle.dump([acc_train, acc_test], file)\n"
      ]
    },
    {
      "cell_type": "markdown",
      "id": "9451961a",
      "metadata": {
        "id": "9451961a"
      },
      "source": [
        "## Walidacja krzyżowa"
      ]
    },
    {
      "cell_type": "code",
      "execution_count": null,
      "id": "6959e6ae",
      "metadata": {
        "id": "6959e6ae"
      },
      "outputs": [],
      "source": [
        "\n",
        "from sklearn.model_selection import cross_val_score\n",
        "\n",
        "start = time.time()\n",
        "score = cross_val_score(sgd_clf, X_train, y_train_0, cv=3, scoring=\"accuracy\", n_jobs=-1)\n",
        "print(\"Czas walidacji:\", time.time() - start)\n",
        "print(\"Wyniki walidacji:\", score)\n",
        "\n",
        "with open(\"sgd_cva.pkl\", \"wb\") as f:\n",
        "    pickle.dump(score, f)\n"
      ]
    },
    {
      "cell_type": "markdown",
      "id": "5ae2a1d8",
      "metadata": {
        "id": "5ae2a1d8"
      },
      "source": [
        "## Klasyfikacja wieloklasowa i macierz pomyłek"
      ]
    },
    {
      "cell_type": "code",
      "execution_count": null,
      "id": "db88d79e",
      "metadata": {
        "id": "db88d79e"
      },
      "outputs": [],
      "source": [
        "\n",
        "sgd_m_clf = SGDClassifier(random_state=42, n_jobs=-1)\n",
        "sgd_m_clf.fit(X_train, y_train)\n",
        "\n",
        "# Predykcje\n",
        "print(\"Predykcja 10 pierwszych próbek:\", sgd_m_clf.predict(mnist.data.iloc[:10]))\n",
        "\n",
        "from sklearn.model_selection import cross_val_predict\n",
        "from sklearn.metrics import confusion_matrix\n",
        "\n",
        "y_train_pred = cross_val_predict(sgd_m_clf, X_train, y_train, cv=3, n_jobs=-1)\n",
        "conf_mx = confusion_matrix(y_train, y_train_pred)\n",
        "print(\"Macierz pomyłek:\n",
        "\", conf_mx)\n",
        "\n",
        "with open(\"sgd_cmx.pkl\", \"wb\") as fi:\n",
        "    pickle.dump(conf_mx, fi)\n"
      ]
    }
  ],
  "metadata": {
    "colab": {
      "provenance": []
    }
  },
  "nbformat": 4,
  "nbformat_minor": 5
}