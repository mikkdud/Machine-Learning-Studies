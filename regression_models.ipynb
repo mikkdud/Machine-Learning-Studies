{
  "cells": [
    {
      "cell_type": "markdown",
      "id": "234a3de5",
      "metadata": {
        "id": "234a3de5"
      },
      "source": [
        "# Regresja: modele liniowe, KNN oraz wielomianowe\n",
        "\n",
        "W tym laboratorium generujemy sztuczne dane do regresji, a następnie porównujemy różne podejścia do modelowania zależności między zmiennymi:\n",
        "- regresję liniową,\n",
        "- regresję k-najbliższych sąsiadów (KNN),\n",
        "- regresję wielomianową (od 2 do 5 stopnia).\n",
        "\n",
        "Celem jest analiza dopasowania modeli oraz porównanie błędów średniokwadratowych (MSE) dla zbioru treningowego i testowego.\n",
        "\n",
        "Na końcu zapisujemy wszystkie modele oraz wyniki MSE do plików `.pkl`, które mogą być potem wykorzystane do dalszej analizy lub wizualizacji.\n",
        "\n",
        "📘 Co to jest regresja?\n",
        "Regresja to jedno z podstawowych zagadnień w uczeniu maszynowym i statystyce. Celem regresji jest modelowanie zależności między zmienną objaśnianą (y) a jedną lub więcej zmiennymi objaśniającymi (X), aby na podstawie nowych danych wejściowych przewidywać wartość wyjściową.\n",
        "\n",
        "W odróżnieniu od klasyfikacji (gdzie przewidujemy etykietę/kategorię), regresja przewiduje wartość liczbową.\n",
        "\n",
        "📈 Przykład zastosowania regresji:\n",
        "przewidywanie cen mieszkań na podstawie powierzchni, lokalizacji, liczby pokoi,\n",
        "\n",
        "prognozowanie temperatury na podstawie danych historycznych,\n",
        "\n",
        "modelowanie zależności między ilością reklamy a sprzedażą.\n",
        "\n"
      ]
    },
    {
      "cell_type": "markdown",
      "id": "353a0de5",
      "metadata": {
        "id": "353a0de5"
      },
      "source": [
        "## Generowanie danych i wizualizacja"
      ]
    },
    {
      "cell_type": "code",
      "execution_count": null,
      "id": "2aeecda7",
      "metadata": {
        "id": "2aeecda7"
      },
      "outputs": [],
      "source": [
        "\n",
        "import numpy as np\n",
        "import pandas as pd\n",
        "import matplotlib.pyplot as plt\n",
        "\n",
        "size = 300\n",
        "X = np.random.rand(size) * 5 - 2.5\n",
        "w4, w3, w2, w1, w0 = 1, 2, 1, -4, 2\n",
        "y = w4*(X**4) + w3*(X**3) + w2*(X**2) + w1*X + w0 + np.random.randn(size)*8 - 4\n",
        "\n",
        "df = pd.DataFrame({'x': X, 'y': y})\n",
        "df.to_csv(\"dane_do_regresji.csv\", index=None)\n",
        "df.plot.scatter(x='x', y='y')\n",
        "plt.title(\"Wygenerowane dane regresyjne\")\n",
        "plt.show()\n"
      ]
    },
    {
      "cell_type": "markdown",
      "id": "f24da8b0",
      "metadata": {
        "id": "f24da8b0"
      },
      "source": [
        "## Przygotowanie struktury na wyniki MSE i podział danych"
      ]
    },
    {
      "cell_type": "code",
      "execution_count": null,
      "id": "1e6467db",
      "metadata": {
        "id": "1e6467db"
      },
      "outputs": [],
      "source": [
        "\n",
        "from sklearn.model_selection import train_test_split\n",
        "\n",
        "mse = pd.DataFrame(columns=[\"train_mse\", \"test_mse\"],\n",
        "                   index=[\"lin_reg\", \"knn_3_reg\", \"knn_5_reg\",\n",
        "                          \"poly_2_reg\", \"poly_3_reg\", \"poly_4_reg\", \"poly_5_reg\"])\n",
        "\n",
        "X_train, X_test, y_train, y_test = train_test_split(X, y, train_size=0.8, random_state=42)\n",
        "X_train = X_train.reshape(-1, 1)\n",
        "X_test = X_test.reshape(-1, 1)\n"
      ]
    },
    {
      "cell_type": "markdown",
      "id": "7895c518",
      "metadata": {
        "id": "7895c518"
      },
      "source": [
        "## Regresja liniowa"
      ]
    },
    {
      "cell_type": "code",
      "execution_count": null,
      "id": "0ec5ce2f",
      "metadata": {
        "id": "0ec5ce2f"
      },
      "outputs": [],
      "source": [
        "\n",
        "from sklearn.linear_model import LinearRegression\n",
        "from sklearn.metrics import mean_squared_error\n",
        "\n",
        "lin_reg = LinearRegression()\n",
        "lin_reg.fit(X_train, y_train)\n",
        "\n",
        "y_pred = lin_reg.predict(X_train)\n",
        "plt.scatter(X_train, y_train, color='blue', label='Dane')\n",
        "plt.plot(X_train, y_pred, color='red', label='Regresja liniowa')\n",
        "plt.xlabel('X')\n",
        "plt.ylabel('y')\n",
        "plt.title('Regresja liniowa')\n",
        "plt.legend()\n",
        "plt.show()\n",
        "\n",
        "mse_train = mean_squared_error(y_train, y_pred)\n",
        "y_test_pred = lin_reg.predict(X_test)\n",
        "mse_test = mean_squared_error(y_test, y_test_pred)\n",
        "mse.loc[\"lin_reg\"] = [mse_train, mse_test]\n"
      ]
    },
    {
      "cell_type": "markdown",
      "id": "fd0113a4",
      "metadata": {
        "id": "fd0113a4"
      },
      "source": [
        "## Regresja KNN (k=3)"
      ]
    },
    {
      "cell_type": "code",
      "execution_count": null,
      "id": "f3ef524a",
      "metadata": {
        "id": "f3ef524a"
      },
      "outputs": [],
      "source": [
        "\n",
        "from sklearn.neighbors import KNeighborsRegressor\n",
        "\n",
        "knn_reg3 = KNeighborsRegressor(n_neighbors=3)\n",
        "knn_reg3.fit(X_train, y_train)\n",
        "y_train_pred_knn3 = knn_reg3.predict(X_train)\n",
        "y_test_pred_knn3 = knn_reg3.predict(X_test)\n",
        "\n",
        "plt.clf()\n",
        "plt.scatter(X_train, y_train, c='blue')\n",
        "X_new = np.arange(-3, 3, 0.001).reshape(-1, 1)\n",
        "plt.plot(X_new, knn_reg3.predict(X_new), c=\"red\")\n",
        "plt.title(\"KNN Regressor (k=3)\")\n",
        "plt.show()\n",
        "\n",
        "mse.loc[\"knn_3_reg\"] = [mean_squared_error(y_train, y_train_pred_knn3),\n",
        "                        mean_squared_error(y_test, y_test_pred_knn3)]\n"
      ]
    },
    {
      "cell_type": "markdown",
      "id": "3d2ed443",
      "metadata": {
        "id": "3d2ed443"
      },
      "source": [
        "## Regresja KNN (k=5)"
      ]
    },
    {
      "cell_type": "code",
      "execution_count": null,
      "id": "9818f4d5",
      "metadata": {
        "id": "9818f4d5"
      },
      "outputs": [],
      "source": [
        "\n",
        "knn_reg5 = KNeighborsRegressor(n_neighbors=5)\n",
        "knn_reg5.fit(X_train, y_train)\n",
        "y_train_pred_knn5 = knn_reg5.predict(X_train)\n",
        "y_test_pred_knn5 = knn_reg5.predict(X_test)\n",
        "\n",
        "plt.clf()\n",
        "plt.scatter(X_train, y_train, c='blue')\n",
        "plt.plot(X_new, knn_reg5.predict(X_new), c=\"red\")\n",
        "plt.title(\"KNN Regressor (k=5)\")\n",
        "plt.show()\n",
        "\n",
        "mse.loc[\"knn_5_reg\"] = [mean_squared_error(y_train, y_train_pred_knn5),\n",
        "                        mean_squared_error(y_test, y_test_pred_knn5)]\n"
      ]
    },
    {
      "cell_type": "markdown",
      "id": "a77258e4",
      "metadata": {
        "id": "a77258e4"
      },
      "source": [
        "## Regresja wielomianowa (stopień 2–5)"
      ]
    },
    {
      "cell_type": "code",
      "execution_count": null,
      "id": "4762bb92",
      "metadata": {
        "id": "4762bb92"
      },
      "outputs": [],
      "source": [
        "\n",
        "from sklearn.preprocessing import PolynomialFeatures\n",
        "\n",
        "models = []\n",
        "\n",
        "for degree in range(2, 6):\n",
        "    poly_features = PolynomialFeatures(degree=degree, include_bias=False)\n",
        "    X_poly_train = poly_features.fit_transform(X_train)\n",
        "    model = LinearRegression()\n",
        "    model.fit(X_poly_train, y_train)\n",
        "\n",
        "    y_train_pred = model.predict(X_poly_train)\n",
        "    X_poly_test = poly_features.transform(X_test)\n",
        "    y_test_pred = model.predict(X_poly_test)\n",
        "\n",
        "    mse.loc[f\"poly_{degree}_reg\"] = [\n",
        "        mean_squared_error(y_train, y_train_pred),\n",
        "        mean_squared_error(y_test, y_test_pred)\n",
        "    ]\n",
        "\n",
        "    # Wykres\n",
        "    plt.clf()\n",
        "    plt.scatter(X_train, y_train, c='blue', label=\"Dane treningowe\")\n",
        "    X_new = np.arange(-3, 3, 0.001).reshape(-1, 1)\n",
        "    poly_X_new = poly_features.transform(X_new)\n",
        "    y_new_pred_poly = model.predict(poly_X_new)\n",
        "    plt.plot(X_new, y_new_pred_poly, c=\"r\", label=f\"Regresja wielomianowa {degree} stopnia\")\n",
        "    plt.legend()\n",
        "    plt.title(f\"Regresja wielomianowa stopnia {degree}\")\n",
        "    plt.show()\n",
        "\n",
        "    models.append((model, poly_features))\n"
      ]
    },
    {
      "cell_type": "markdown",
      "id": "0722af29",
      "metadata": {
        "id": "0722af29"
      },
      "source": [
        "## Zapis wyników"
      ]
    },
    {
      "cell_type": "code",
      "execution_count": null,
      "id": "4e85a0a8",
      "metadata": {
        "id": "4e85a0a8"
      },
      "outputs": [],
      "source": [
        "\n",
        "import pickle\n",
        "\n",
        "with open(\"mse.pkl\", \"wb\") as file:\n",
        "    pickle.dump(mse, file)\n",
        "\n",
        "reg_models = [(lin_reg, None), (knn_reg3, None), (knn_reg5, None)] + models\n",
        "\n",
        "with open(\"reg.pkl\", \"wb\") as file:\n",
        "    pickle.dump(reg_models, file)\n"
      ]
    }
  ],
  "metadata": {
    "colab": {
      "provenance": []
    }
  },
  "nbformat": 4,
  "nbformat_minor": 5
}